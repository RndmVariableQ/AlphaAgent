{
 "cells": [
  {
   "cell_type": "code",
   "execution_count": 3,
   "metadata": {},
   "outputs": [
    {
     "name": "stdout",
     "output_type": "stream",
     "text": [
      "\n",
      "import pandas as pd\n",
      "import numpy as np\n",
      "import os\n",
      "from rdagent.components.coder.factor_coder.expr_parser import parse_expression, parse_symbol\n",
      "from rdagent.components.coder.factor_coder.function_lib import (\n",
      "    ABS, ADD, AND, CORR, COUNT, COVARIANCE, DECAYLINEAR, DELAY, DELTA, DIVIDE, \n",
      "    EMA, EXP, FILTER, HIGHDAY, LOG, LOWDAY, MAX, MEAN, MEDIAN, MIN, MULTIPLY, \n",
      "    OR, POW, PROD, RANK, REGBETA, REGRESI, SEQUENCE, SIGN, SMA, SQRT, STD, \n",
      "    SUBTRACT, SUM, SUMAC, SUMIF, TS_MAX, TS_MIN, TS_RANK, TS_ZSCORE, WMA, ZSCORE\n",
      ")\n",
      "\n",
      "\n",
      "def calculate_factor(expr: str, name: str):\n",
      "    # Stock DataFrame\n",
      "    # df.columns: ['$open', '$close', '$high', '$low', '$volume', '$amount', '$turn', '$pettm', '$pbmrq']\n",
      "    df = pd.read_hdf('/home/tangziyi/RD-Agent/rdagent/scenarios/qlib/experiment/factor_data_template/daily_pv_all.h5', key='data')\n",
      "    \n",
      "    expr = parse_symbol(expr, df.columns)\n",
      "    expr = parse_expression(expr)\n",
      "\n",
      "    # replace 'var_name' by 'df['$var_name']\n",
      "    for col in df.columns:\n",
      "        expr = expr.replace(col[1:], f\"df[\\'{col}\\']\")\n",
      "\n",
      "    df[name] = eval(expr)\n",
      "    result = df[name].astype(np.float64)\n",
      "    print(result)\n",
      "\n",
      "    if os.path.exists('result.h5'):\n",
      "        os.remove('result.h5')\n",
      "    result.to_hdf('result.h5', key='data')\n",
      "\n",
      "if __name__ == '__main__':\n",
      "    # Input factor expression. Do NOT use the variable format like \"df['$xxx']\" in factor expressions. Instead, you should use \"$xxx\". \n",
      "    expr = \"CORR((LOG($close) - LOG($open)) * $volume, $open, 20)\"\n",
      "    name = \"FACTOR_1\"\n",
      "    calculate_factor(expr, name)\n",
      "factor_expression:  CORR((LOG(close) - LOG(open)) * volume, open, 20)\n",
      "datetime    instrument\n",
      "2022-01-03  A                  NaN\n",
      "            AA                 NaN\n",
      "            AAL                NaN\n",
      "            AAP                NaN\n",
      "            AAPL               NaN\n",
      "                            ...   \n",
      "2024-12-30  YUM          -0.225026\n",
      "            ZBH          -0.510447\n",
      "            ZBRA         -0.381448\n",
      "            ZION         -0.328732\n",
      "            ZTS           0.002562\n",
      "Name: FACTOR_1, Length: 470519, dtype: float64\n"
     ]
    }
   ],
   "source": [
    "from jinja2 import Template\n",
    "\n",
    "# Step 1: 读取模板内容\n",
    "with open('/home/tangziyi/RD-Agent/rdagent/components/coder/factor_coder/template_debug.jinjia2', 'r') as f:\n",
    "    template_content = f.read()\n",
    "\n",
    "# Step 2: 渲染模板\n",
    "template = Template(template_content)\n",
    "rendered_code = template.render(\n",
    "    expression=\"CORR((LOG($close) - LOG($open)) * $volume, $open, 20)\", # \"DELAY($high + $low / 2, 5)\",\n",
    "    factor_name=\"FACTOR_1\"\n",
    "    )\n",
    "\n",
    "# Step 3: 打印渲染后的代码\n",
    "print(rendered_code)\n",
    "exec(rendered_code)"
   ]
  },
  {
   "cell_type": "code",
   "execution_count": null,
   "metadata": {},
   "outputs": [],
   "source": []
  }
 ],
 "metadata": {
  "kernelspec": {
   "display_name": "rdagent",
   "language": "python",
   "name": "python3"
  },
  "language_info": {
   "codemirror_mode": {
    "name": "ipython",
    "version": 3
   },
   "file_extension": ".py",
   "mimetype": "text/x-python",
   "name": "python",
   "nbconvert_exporter": "python",
   "pygments_lexer": "ipython3",
   "version": "3.10.15"
  }
 },
 "nbformat": 4,
 "nbformat_minor": 2
}
