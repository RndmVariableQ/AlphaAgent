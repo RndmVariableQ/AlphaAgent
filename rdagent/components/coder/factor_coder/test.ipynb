{
 "cells": [
  {
   "cell_type": "code",
   "execution_count": null,
   "metadata": {},
   "outputs": [
    {
     "name": "stdout",
     "output_type": "stream",
     "text": [
      "\n",
      "import pandas as pd\n",
      "import numpy as np\n",
      "from rdagent.components.coder.factor_coder.expr_parser import parse_expression, parse_symbol\n",
      "from rdagent.components.coder.factor_coder.function_lib import (\n",
      "    ABS, ADD, AND, CORR, COUNT, COVIANCE, DECAYLINEAR, DELAY, DELTA, DIVIDE, \n",
      "    EMA, EXP, FILTER, HIGHDAY, LOG, LOWDAY, MAX, MEAN, MEDIAN, MIN, MULTIPLY, \n",
      "    OR, POW, PROD, RANK, REGBETA, REGRESI, SEQUENCE, SIGN, SMA, SQRT, STD, \n",
      "    SUBTRACT, SUM, SUMAC, SUMIF, TS_MAX, TS_MIN, TS_RANK, TS_ZSCORE, WMA, ZSCORE\n",
      ")\n",
      "\n",
      "\n",
      "def calculate_factor():\n",
      "    # 获取表达式\n",
      "    expr = \"SMA(CLOSE, 5, 1)\"\n",
      "    df = pd.read_hdf('/home/tangziyi/RD-Agent/rdagent/scenarios/qlib/experiment/factor_data_template/daily_pv_all.h5', key='data')\n",
      "    # df = pd.read_hdf('/home/tangziyi/RD-Agent/git_ignore_folder/factor_implementation_source_data/daily_pv.h5', key='data')\n",
      "    print(df.columns)\n",
      "    expr = parse_symbol(expr, df.columns)\n",
      "    # print(expr)\n",
      "    expr = parse_expression(expr)\n",
      "\n",
      "    for col in df.columns:\n",
      "        expr = expr.replace(col[1:], f\"df[\\'{col}\\']\")\n",
      "    \n",
      "    # print(expr)\n",
      "    df['FACTOR_1'] = eval(expr)\n",
      "    result = df['FACTOR_1']\n",
      "    result.to_hdf('result.h5', key='data')\n",
      "    # print(result.iloc[5:])\n",
      "\n",
      "if __name__ == '__main__':\n",
      "    calculate_factor()\n",
      "Index(['$open', '$close', '$high', '$low', '$volume', '$amount', '$turn',\n",
      "       '$pettm', '$pbmrq'],\n",
      "      dtype='object')\n"
     ]
    }
   ],
   "source": [
    "from jinja2 import Template\n",
    "\n",
    "# Step 1: 读取模板内容\n",
    "with open('/home/tangziyi/RD-Agent/rdagent/components/coder/factor_coder/template_debug.jinjia2', 'r') as f:\n",
    "    template_content = f.read()\n",
    "\n",
    "# Step 2: 渲染模板\n",
    "template = Template(template_content)\n",
    "rendered_code = template.render(\n",
    "    expression=\"SMA(CLOSE, 5, 1)\", # \"DELAY($high + $low / 2, 5)\",\n",
    "    factor_name=\"FACTOR_1\"\n",
    "    )\n",
    "\n",
    "# Step 3: 打印渲染后的代码\n",
    "print(rendered_code)\n",
    "exec(rendered_code)"
   ]
  },
  {
   "cell_type": "code",
   "execution_count": 10,
   "metadata": {},
   "outputs": [
    {
     "name": "stdout",
     "output_type": "stream",
     "text": [
      "ABS, ADD, AND, CORR, COUNT, COVIANCE, DECAYLINEAR, DELAY, DELTA, DIVIDE, EMA, EXP, FILTER, HIGHDAY, LOG, LOWDAY, MAX, MEAN, MEDIAN, MIN, MULTIPLY, OR, POW, PROD, RANK, REGBETA, REGRESI, SEQUENCE, SIGN, SMA, SQRT, STD, SUBTRACT, SUM, SUMAC, SUMIF, TS_MAX, TS_MIN, TS_RANK, TS_ZSCORE, WMA, ZSCORE, "
     ]
    }
   ],
   "source": [
    "from rdagent.components.coder.factor_coder.function_lib import *\n",
    "\n",
    "for i in dir():\n",
    "    if i.isupper():\n",
    "        print(i, end=', ')"
   ]
  },
  {
   "cell_type": "code",
   "execution_count": null,
   "metadata": {},
   "outputs": [],
   "source": []
  }
 ],
 "metadata": {
  "kernelspec": {
   "display_name": "rdagent",
   "language": "python",
   "name": "python3"
  },
  "language_info": {
   "codemirror_mode": {
    "name": "ipython",
    "version": 3
   },
   "file_extension": ".py",
   "mimetype": "text/x-python",
   "name": "python",
   "nbconvert_exporter": "python",
   "pygments_lexer": "ipython3",
   "version": "3.10.15"
  }
 },
 "nbformat": 4,
 "nbformat_minor": 2
}
